{
  "nbformat": 4,
  "nbformat_minor": 0,
  "metadata": {
    "colab": {
      "private_outputs": true,
      "provenance": [],
      "gpuType": "T4",
      "authorship_tag": "ABX9TyMrAVC7S6QQBlqn/EClx74l",
      "include_colab_link": true
    },
    "kernelspec": {
      "name": "python3",
      "display_name": "Python 3"
    },
    "language_info": {
      "name": "python"
    },
    "accelerator": "GPU"
  },
  "cells": [
    {
      "cell_type": "markdown",
      "metadata": {
        "id": "view-in-github",
        "colab_type": "text"
      },
      "source": [
        "<a href=\"https://colab.research.google.com/github/sourabhnayak04444/Image-Resizer-Tool/blob/main/Image_resizer.ipynb\" target=\"_parent\"><img src=\"https://colab.research.google.com/assets/colab-badge.svg\" alt=\"Open In Colab\"/></a>"
      ]
    },
    {
      "cell_type": "code",
      "source": [
        "# Install Pillow (PIL)\n",
        "!pip install Pillow"
      ],
      "metadata": {
        "id": "iBqSLyKD6Vfi"
      },
      "execution_count": null,
      "outputs": []
    },
    {
      "cell_type": "code",
      "source": [
        "import os\n",
        "from PIL import Image\n",
        "from google.colab import files # Essential for local file operations in Colab\n",
        "import shutil\n",
        "\n",
        "def resize_images_batch(input_folder, output_folder, target_width):\n",
        "    \"\"\"\n",
        "    Resizes all supported images in a folder to a target width while\n",
        "    maintaining the aspect ratio, and saves them as JPEG files.\n",
        "    \"\"\"\n",
        "    # 1. Create the output folder if it doesn't exist\n",
        "    if not os.path.exists(output_folder):\n",
        "        os.makedirs(output_folder)\n",
        "        print(f\"Created output directory: {output_folder}\")\n",
        "\n",
        "    supported_formats = ('.jpg', '.jpeg', '.png')\n",
        "    processed_count = 0\n",
        "\n",
        "    # 2. Loop through all files in the input folder\n",
        "    for filename in os.listdir(input_folder):\n",
        "        if filename.lower().endswith(supported_formats):\n",
        "            try:\n",
        "                input_path = os.path.join(input_folder, filename)\n",
        "\n",
        "                # 3. Open and Resize the image\n",
        "                img = Image.open(input_path)\n",
        "                original_width, original_height = img.size\n",
        "\n",
        "                # Only resize if the image is wider than the target width\n",
        "                if original_width > target_width:\n",
        "                    ratio = target_width / original_width\n",
        "                    target_height = int(original_height * ratio)\n",
        "                    resized_img = img.resize((target_width, target_height), Image.Resampling.LANCZOS)\n",
        "                else:\n",
        "                    # If the image is smaller, just use the original\n",
        "                    resized_img = img\n",
        "                    print(f\"Skipped resizing {filename}: already smaller than {target_width}px.\")\n",
        "\n",
        "\n",
        "                # 4. Save the resized image as JPEG\n",
        "                name, ext = os.path.splitext(filename)\n",
        "                output_filename = f\"{name}_resized.jpeg\"\n",
        "                output_path = os.path.join(output_folder, output_filename)\n",
        "\n",
        "                resized_img.save(output_path, 'jpeg', quality=90)\n",
        "\n",
        "                print(f\"Successfully processed and saved: {output_filename}\")\n",
        "                processed_count += 1\n",
        "\n",
        "            except Exception as e:\n",
        "                print(f\"Error processing {filename}: {e}\")\n",
        "\n",
        "    print(f\"\\n--- Batch Resize Complete ---\")\n",
        "    print(f\"Total images processed: {processed_count}\")\n",
        "\n",
        "    # Clean up the input folder after processing\n",
        "    shutil.rmtree(input_folder)\n",
        "\n",
        "# --- Configuration using Colab's local /content directory ---\n",
        "INPUT_DIR = 'input_images'  # Will be /content/input_images\n",
        "OUTPUT_DIR = 'output_images' # Will be /content/output_images\n",
        "NEW_WIDTH = 800\n",
        "# ---------------------\n",
        "\n",
        "# The execution block is now modified to handle upload/download\n",
        "if __name__ == '__main__':\n",
        "    # Ensure the input folder exists temporarily\n",
        "    if not os.path.exists(INPUT_DIR):\n",
        "        os.makedirs(INPUT_DIR)\n",
        "\n",
        "    print(\"Step 1:Please select the image files from your PC to upload.\")\n",
        "    # This opens a file selection dialogue on your PC\n",
        "    uploaded = files.upload()\n",
        "\n",
        "    # Move uploaded files from /content/ to the input folder\n",
        "    for name, data in uploaded.items():\n",
        "        with open(os.path.join(INPUT_DIR, name), 'wb') as f:\n",
        "            f.write(data)\n",
        "        print(f\"File uploaded: {name}\")\n",
        "\n",
        "    # Run the resizing process\n",
        "    print(\"\\nStep 2:Running image batch resize...\")\n",
        "    resize_images_batch(INPUT_DIR, OUTPUT_DIR, NEW_WIDTH)\n",
        "\n",
        "    # Download the resized files back to your PC\n",
        "    print(\"\\nStep 3:Zipping and downloading the results.\")\n",
        "\n",
        "    # 1. Zip the output folder\n",
        "    # shutil.make_archive(base_name, format, root_dir, base_dir)\n",
        "    zip_filename = 'resized_images_output'\n",
        "    shutil.make_archive(zip_filename, 'zip', OUTPUT_DIR)\n",
        "\n",
        "    # 2. Download the zip file to your local machine\n",
        "    files.download(f'{zip_filename}.zip')"
      ],
      "metadata": {
        "id": "vmoHcnOR6CXb"
      },
      "execution_count": null,
      "outputs": []
    },
    {
      "cell_type": "code",
      "source": [],
      "metadata": {
        "id": "8nOKAObLnAyI"
      },
      "execution_count": null,
      "outputs": []
    }
  ]
}